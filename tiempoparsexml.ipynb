{
 "cells": [
  {
   "cell_type": "code",
   "execution_count": 2,
   "metadata": {
    "collapsed": true
   },
   "outputs": [],
   "source": [
    "from urllib import urlretrieve\n",
    "from lxml import objectify\n",
    "import pandas as pd\n",
    "import numpy as np\n",
    "import matplotlib.pyplot as plt\n",
    "%matplotlib inline"
   ]
  },
  {
   "cell_type": "code",
   "execution_count": 3,
   "metadata": {
    "collapsed": false
   },
   "outputs": [
    {
     "data": {
      "text/plain": [
       "('tiempo.xml', <httplib.HTTPMessage instance at 0x000000000CD9F508>)"
      ]
     },
     "execution_count": 3,
     "metadata": {},
     "output_type": "execute_result"
    }
   ],
   "source": [
    "link = 'http://www.aemet.es/xml/municipios/localidad_28079.xml'\n",
    "urlretrieve(link, \"tiempo.xml\")"
   ]
  },
  {
   "cell_type": "code",
   "execution_count": 4,
   "metadata": {
    "collapsed": false
   },
   "outputs": [
    {
     "name": "stdout",
     "output_type": "stream",
     "text": [
      "root :  \n",
      "--- ITERACION :  0  ---\n",
      "prob_precipitacion :  [-1, -1, 0, -1, 0, 0, 0]\n",
      "estado_cielo :  [-1, -1, 12, -1, 12, 12, 12]\n",
      "viento :  [-1, -1, 25, 10, 20, 25, 20]\n",
      "temperatura :  [15, 26, 25, 18]\n",
      "temperatura maxima :  [29]\n",
      "temperatura minima :  [14]\n",
      "--- ITERACION :  1  ---\n",
      "prob_precipitacion :  [-1, -1, 0, -1, 0, 0, 0, 95, 65, 90, 5, 65, 70, 50]\n",
      "estado_cielo :  [-1, -1, 12, -1, 12, 12, 12, 61, 43, 61, -2, 43, 61, 43]\n",
      "viento :  [-1, -1, 25, 10, 20, 25, 20, 30, 30, 30, 15, 30, 30, 10]\n",
      "temperatura :  [15, 26, 25, 18, 14, 19, 18, 13]\n",
      "temperatura maxima :  [29, 21]\n",
      "temperatura minima :  [14, 13]\n",
      "--- ITERACION :  2  ---\n",
      "prob_precipitacion :  [-1, -1, 0, -1, 0, 0, 0, 95, 65, 90, 5, 65, 70, 50, 95, 55, 85]\n",
      "estado_cielo :  [-1, -1, 12, -1, 12, 12, 12, 61, 43, 61, -2, 43, 61, 43, 62, 43, 62]\n",
      "viento :  [-1, -1, 25, 10, 20, 25, 20, 30, 30, 30, 15, 30, 30, 10, 20, 20, 20]\n",
      "temperatura :  [15, 26, 25, 18, 14, 19, 18, 13]\n",
      "temperatura maxima :  [29, 21, 21]\n",
      "temperatura minima :  [14, 13, 10]\n",
      "--- ITERACION :  3  ---\n",
      "prob_precipitacion :  [-1, -1, 0, -1, 0, 0, 0, 95, 65, 90, 5, 65, 70, 50, 95, 55, 85, 80, 15, 75]\n",
      "estado_cielo :  [-1, -1, 12, -1, 12, 12, 12, 61, 43, 61, -2, 43, 61, 43, 62, 43, 62, 44, 13, 44]\n",
      "viento :  [-1, -1, 25, 10, 20, 25, 20, 30, 30, 30, 15, 30, 30, 10, 20, 20, 20, 10, 10, 15]\n",
      "temperatura :  [15, 26, 25, 18, 14, 19, 18, 13]\n",
      "temperatura maxima :  [29, 21, 21, 22]\n",
      "temperatura minima :  [14, 13, 10, 11]\n",
      "--- ITERACION :  4  ---\n",
      "prob_precipitacion :  [-1, -1, 0, -1, 0, 0, 0, 95, 65, 90, 5, 65, 70, 50, 95, 55, 85, 80, 15, 75, 55]\n",
      "estado_cielo :  [-1, -1, 12, -1, 12, 12, 12, 61, 43, 61, -2, 43, 61, 43, 62, 43, 62, 44, 13, 44, 43]\n",
      "viento :  [-1, -1, 25, 10, 20, 25, 20, 30, 30, 30, 15, 30, 30, 10, 20, 20, 20, 10, 10, 15, 15]\n",
      "temperatura :  [15, 26, 25, 18, 14, 19, 18, 13]\n",
      "temperatura maxima :  [29, 21, 21, 22, 24]\n",
      "temperatura minima :  [14, 13, 10, 11, 10]\n",
      "--- ITERACION :  5  ---\n",
      "prob_precipitacion :  [-1, -1, 0, -1, 0, 0, 0, 95, 65, 90, 5, 65, 70, 50, 95, 55, 85, 80, 15, 75, 55, 0]\n",
      "estado_cielo :  [-1, -1, 12, -1, 12, 12, 12, 61, 43, 61, -2, 43, 61, 43, 62, 43, 62, 44, 13, 44, 43, 12]\n",
      "viento :  [-1, -1, 25, 10, 20, 25, 20, 30, 30, 30, 15, 30, 30, 10, 20, 20, 20, 10, 10, 15, 15, 0]\n",
      "temperatura :  [15, 26, 25, 18, 14, 19, 18, 13]\n",
      "temperatura maxima :  [29, 21, 21, 22, 24, 27]\n",
      "temperatura minima :  [14, 13, 10, 11, 10, 11]\n",
      "--- ITERACION :  6  ---\n",
      "prob_precipitacion :  [-1, -1, 0, -1, 0, 0, 0, 95, 65, 90, 5, 65, 70, 50, 95, 55, 85, 80, 15, 75, 55, 0, 0]\n",
      "estado_cielo :  [-1, -1, 12, -1, 12, 12, 12, 61, 43, 61, -2, 43, 61, 43, 62, 43, 62, 44, 13, 44, 43, 12, 14]\n",
      "viento :  [-1, -1, 25, 10, 20, 25, 20, 30, 30, 30, 15, 30, 30, 10, 20, 20, 20, 10, 10, 15, 15, 0, 0]\n",
      "temperatura :  [15, 26, 25, 18, 14, 19, 18, 13]\n",
      "temperatura maxima :  [29, 21, 21, 22, 24, 27, 28]\n",
      "temperatura minima :  [14, 13, 10, 11, 10, 11, 15]\n"
     ]
    }
   ],
   "source": [
    "parsed = objectify.parse('tiempo.xml')\n",
    "root = parsed.getroot()\n",
    "prob_precipitacion = []\n",
    "estado_cielo =[]\n",
    "viento = []\n",
    "temperatura = []\n",
    "tempmax = []\n",
    "tempmin = []\n",
    "iteraccion = 0\n",
    "print \"root : \", root\n",
    "for row in root.prediccion.dia:\n",
    "    for row_precipitacion in row.prob_precipitacion:\n",
    "        if (row_precipitacion != ''):\n",
    "            prob_precipitacion.append(row_precipitacion)\n",
    "        else:\n",
    "            prob_precipitacion.append(-1)\n",
    "    for row_cielo in row.estado_cielo:\n",
    "        if (row_cielo != ''):\n",
    "            try:\n",
    "                int(row_cielo)\n",
    "                estado_cielo.append(row_cielo)\n",
    "            except ValueError:\n",
    "                estado_cielo.append(-2)\n",
    "        else:\n",
    "            estado_cielo.append(-1)\n",
    "    for row_viento in row.viento:\n",
    "        if (row_viento.velocidad != ''):\n",
    "            viento.append(row_viento.velocidad)\n",
    "        else:\n",
    "            viento.append(-1)\n",
    "    for row_temp in row.temperatura:\n",
    "        tempmax.append(row_temp.maxima)\n",
    "        tempmin.append(row_temp.minima)\n",
    "        if (iteraccion < 2):\n",
    "            for datos in row_temp.dato:\n",
    "                temperatura.append(datos)\n",
    "    print \"--- ITERACION : \", iteraccion,\" ---\"\n",
    "    print \"prob_precipitacion : \",prob_precipitacion\n",
    "    print \"estado_cielo : \",estado_cielo\n",
    "    print \"viento : \",viento\n",
    "    print \"temperatura : \",temperatura\n",
    "    print \"temperatura maxima : \",tempmax\n",
    "    print \"temperatura minima : \",tempmin\n",
    "    iteraccion = iteraccion + 1\n",
    "#data = pd.DataFrame()\n",
    "#data['prob_precipitacion'] = [str(x) for x in prob_precipitacion]\n",
    "#data['estado_cielo'] = [int(x) for x in estado_cielo]\n",
    "#data['viento'] = [int(x) for x in viento]\n",
    "#data['temperatura'] = [int(x) for x in temperatura]\n",
    "#data"
   ]
  },
  {
   "cell_type": "code",
   "execution_count": null,
   "metadata": {
    "collapsed": true
   },
   "outputs": [],
   "source": []
  }
 ],
 "metadata": {
  "kernelspec": {
   "display_name": "Python 2",
   "language": "python",
   "name": "python2"
  },
  "language_info": {
   "codemirror_mode": {
    "name": "ipython",
    "version": 2
   },
   "file_extension": ".py",
   "mimetype": "text/x-python",
   "name": "python",
   "nbconvert_exporter": "python",
   "pygments_lexer": "ipython2",
   "version": "2.7.11"
  }
 },
 "nbformat": 4,
 "nbformat_minor": 0
}
