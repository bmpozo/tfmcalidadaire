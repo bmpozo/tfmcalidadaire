{
 "cells": [
  {
   "cell_type": "code",
   "execution_count": 14,
   "metadata": {
    "collapsed": true
   },
   "outputs": [],
   "source": [
    "from urllib import urlretrieve\n",
    "from lxml import objectify\n",
    "import pandas as pd\n",
    "import numpy as np\n",
    "import matplotlib.pyplot as plt\n",
    "%matplotlib inline"
   ]
  },
  {
   "cell_type": "code",
   "execution_count": 15,
   "metadata": {
    "collapsed": false
   },
   "outputs": [
    {
     "data": {
      "text/plain": [
       "('trafico.xml', <httplib.HTTPMessage instance at 0x000000000D2BC9C8>)"
      ]
     },
     "execution_count": 15,
     "metadata": {},
     "output_type": "execute_result"
    }
   ],
   "source": [
    "link = 'http://www.mc30.es/images/xml/DatosTrafico.xml'\n",
    "urlretrieve(link, \"trafico.xml\")"
   ]
  },
  {
   "cell_type": "code",
   "execution_count": 20,
   "metadata": {
    "collapsed": false
   },
   "outputs": [
    {
     "name": "stdout",
     "output_type": "stream",
     "text": [
      " --- ITERACION :  0  ---\n",
      "totalVehiculosTunel :  1713\n",
      "totalVehiculosCalle30 :  0\n",
      "velocidadMediaTunel :  0\n",
      "velicidadMediaSuperfice :  0\n",
      "--- ITERACION :  1  ---\n",
      "totalVehiculosTunel :  1713\n",
      "totalVehiculosCalle30 :  7909\n",
      "velocidadMediaTunel :  0\n",
      "velicidadMediaSuperfice :  0\n",
      "--- ITERACION :  2  ---\n",
      "totalVehiculosTunel :  1713\n",
      "totalVehiculosCalle30 :  7909\n",
      "velocidadMediaTunel :  61.97\n",
      "velicidadMediaSuperfice :  0\n",
      "--- ITERACION :  3  ---\n",
      "totalVehiculosTunel :  1713\n",
      "totalVehiculosCalle30 :  7909\n",
      "velocidadMediaTunel :  61.97\n",
      "velicidadMediaSuperfice :  76.99\n",
      "--- ITERACION :  4  ---\n",
      "totalVehiculosTunel :  1713\n",
      "totalVehiculosCalle30 :  7909\n",
      "velocidadMediaTunel :  61.97\n",
      "velicidadMediaSuperfice :  76.99\n",
      "--- ITERACION :  5  ---\n",
      "totalVehiculosTunel :  1713\n",
      "totalVehiculosCalle30 :  7909\n",
      "velocidadMediaTunel :  61.97\n",
      "velicidadMediaSuperfice :  76.99\n",
      "--- ITERACION :  6  ---\n",
      "totalVehiculosTunel :  1713\n",
      "totalVehiculosCalle30 :  7909\n",
      "velocidadMediaTunel :  61.97\n",
      "velicidadMediaSuperfice :  76.99\n"
     ]
    }
   ],
   "source": [
    "parsed = objectify.parse('trafico.xml')\n",
    "DatosTrafico = parsed.getroot()\n",
    "totalvehiculostunel = 0;\n",
    "totalvehiculoscalle30 = 0;\n",
    "velocidadmediatunel = 0;\n",
    "velocidadmediasuperficie = 0;\n",
    "iteraccion = 0\n",
    "for row in DatosTrafico.DatoGlobal:\n",
    "    if (row.Nombre == 'totalVehiculosTunel'):\n",
    "        totalvehiculostunel = row.VALOR\n",
    "    if (row.Nombre == 'totalVehiculosCalle30'):\n",
    "        totalvehiculoscalle30 = row.VALOR\n",
    "    if (row.Nombre == 'velocidadMediaTunel'):\n",
    "        velocidadmediatunel = row.VALOR\n",
    "    if (row.Nombre == 'velicidadMediaSuperfice'):\n",
    "        velocidadmediasuperficie = row.VALOR\n",
    "    \n",
    "    print \"--- ITERACION : \", iteraccion,\" ---\"\n",
    "    print \"totalVehiculosTunel : \",totalvehiculostunel\n",
    "    print \"totalVehiculosCalle30 : \",totalvehiculoscalle30\n",
    "    print \"velocidadMediaTunel : \",velocidadmediatunel\n",
    "    print \"velicidadMediaSuperfice : \",velocidadmediasuperficie\n",
    "    iteraccion = iteraccion + 1"
   ]
  },
  {
   "cell_type": "code",
   "execution_count": null,
   "metadata": {
    "collapsed": true
   },
   "outputs": [],
   "source": []
  }
 ],
 "metadata": {
  "kernelspec": {
   "display_name": "Python 2",
   "language": "python",
   "name": "python2"
  },
  "language_info": {
   "codemirror_mode": {
    "name": "ipython",
    "version": 2
   },
   "file_extension": ".py",
   "mimetype": "text/x-python",
   "name": "python",
   "nbconvert_exporter": "python",
   "pygments_lexer": "ipython2",
   "version": "2.7.11"
  }
 },
 "nbformat": 4,
 "nbformat_minor": 0
}
