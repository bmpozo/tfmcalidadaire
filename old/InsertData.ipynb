{
 "cells": [
  {
   "cell_type": "code",
   "execution_count": 18,
   "metadata": {
    "collapsed": false
   },
   "outputs": [
    {
     "name": "stdout",
     "output_type": "stream",
     "text": [
      "Connect to HBase. table name: mediciones, batch size: 1000\n",
      "<type 'list'>\n",
      "Done. row count: 0, duration: 0.018 s\n"
     ]
    }
   ],
   "source": [
    "#!/usr/bin/env python\n",
    "\n",
    "\"\"\"\n",
    "Insert data into HBase with a Python script.\n",
    "To create the table, first use the hbase shell. We are going to create a\n",
    "namespace called \"sample_data\". The table for this script is called \"rfic\",\n",
    "as we will be inserting Request for Information Cases from the City of\n",
    "Indianapolis.\n",
    "Our table will have only one column family named \"data\", and we are accepting\n",
    "all table defaults.\n",
    "Original data source\n",
    "https://data.indy.gov/dataset/Request-for-Information-Cases/ts4b-8qa9\n",
    "% hbase shell\n",
    "hbase> create_namespace \"sample_data\"\n",
    "hbase> create \"sample_data:rfic\", \"data\"\n",
    "\"\"\"\n",
    "\n",
    "#antes de importar happybase se debe instalar\n",
    "#pip install happybase\n",
    "\n",
    "import csv\n",
    "import happybase\n",
    "import time\n",
    "\n",
    "batch_size = 1000\n",
    "host = \"192.168.1.108\"\n",
    "#file_path = \"Request_for_Information_Cases.csv\"\n",
    "namespace = \"calidadaire\"\n",
    "row_count = 0\n",
    "start_time = time.time()\n",
    "table_name = \"mediciones\"\n",
    "\n",
    "\n",
    "def connect_to_hbase():\n",
    "    \"\"\" Connect to HBase server.\n",
    "    This will use the host, namespace, table name, and batch size as defined in\n",
    "    the global variables above.\n",
    "    \"\"\"\n",
    "    conn = happybase.Connection(host = host,\n",
    "        table_prefix = namespace,\n",
    "        table_prefix_separator = \":\")\n",
    "    conn.open()\n",
    "    table = conn.table(table_name)\n",
    "    batch = table.batch(batch_size = batch_size)\n",
    "    \n",
    "    \n",
    "    return conn, batch\n",
    "\n",
    "def insert_row(batch, row):\n",
    "    \"\"\" Insert a row into HBase.\n",
    "    Write the row to the batch. When the batch size is reached, rows will be\n",
    "    sent to the database.\n",
    "    Rows have the following schema:\n",
    "        [ id, keyword, subcategory, type, township, city, zip, council_district,\n",
    "          opened, closed, status, origin, location ]\n",
    "    \"\"\"\n",
    "   \n",
    "    batch.put(row[0], { \"trafico:totalvehiculostunel\": row[1], \"trafico:totalvehiculoscalle30\": row[2],\n",
    "        \"trafico:velocidadmediasuperficie\": row[3], \"trafico:velocidadmediatunel\": row[4]}, \"20160612\")\n",
    "\n",
    "\n",
    "#def read_csv():\n",
    "    #csvfile = open(file_path, \"r\")\n",
    "    #csvreader = csv.reader(csvfile)\n",
    "    #return csvreader, csvfile\n",
    "\n",
    "\n",
    "# After everything has been defined, run the script.\n",
    "conn, batch = connect_to_hbase()\n",
    "print \"Connect to HBase. table name: %s, batch size: %i\" % (table_name, batch_size)\n",
    "#csvreader, csvfile = read_csv()\n",
    "#print \"Connected to file. name: %s\" % (file_path)\n",
    "\n",
    "try:\n",
    "    \n",
    "    row=['20160102','1','2','3','0']\n",
    "    #ejemplo de fila de valores\n",
    "\n",
    "    insert_row(batch, row)\n",
    "    \n",
    "    # Loop through the rows. The first row contains column headers, so skip that\n",
    "    # row. Insert all remaining rows into the database.\n",
    "    #for row in csvreader:\n",
    "    #    row_count += 1\n",
    "    #    if row_count == 1:\n",
    "    #        pass\n",
    "    #    else:\n",
    "    #        insert_row(batch, row)\n",
    "\n",
    "    # If there are any leftover rows in the batch, send them now.\n",
    "    batch.send()\n",
    "finally:\n",
    "    # No matter what happens, close the file handle.\n",
    "#    csvfile.close()\n",
    "    conn.close()\n",
    "\n",
    "duration = time.time() - start_time\n",
    "print \"Done. row count: %i, duration: %.3f s\" % (row_count, duration)"
   ]
  },
  {
   "cell_type": "code",
   "execution_count": null,
   "metadata": {
    "collapsed": true
   },
   "outputs": [],
   "source": []
  },
  {
   "cell_type": "code",
   "execution_count": null,
   "metadata": {
    "collapsed": true
   },
   "outputs": [],
   "source": []
  }
 ],
 "metadata": {
  "kernelspec": {
   "display_name": "Python 2",
   "language": "python",
   "name": "python2"
  },
  "language_info": {
   "codemirror_mode": {
    "name": "ipython",
    "version": 2
   },
   "file_extension": ".py",
   "mimetype": "text/x-python",
   "name": "python",
   "nbconvert_exporter": "python",
   "pygments_lexer": "ipython2",
   "version": "2.7.11"
  }
 },
 "nbformat": 4,
 "nbformat_minor": 0
}
