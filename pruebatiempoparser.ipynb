{
 "cells": [
  {
   "cell_type": "code",
   "execution_count": 1,
   "metadata": {
    "collapsed": true
   },
   "outputs": [],
   "source": [
    "from urllib import urlretrieve\n",
    "from lxml import objectify\n",
    "import pandas as pd\n",
    "import numpy as np\n",
    "import matplotlib.pyplot as plt\n",
    "%matplotlib inline"
   ]
  },
  {
   "cell_type": "code",
   "execution_count": 2,
   "metadata": {
    "collapsed": false
   },
   "outputs": [
    {
     "data": {
      "text/plain": [
       "('tiempo.xml', <httplib.HTTPMessage instance at 0x000000000CAB0508>)"
      ]
     },
     "execution_count": 2,
     "metadata": {},
     "output_type": "execute_result"
    }
   ],
   "source": [
    "link = 'http://www.aemet.es/xml/municipios/localidad_28079.xml'\n",
    "urlretrieve(link, \"tiempo.xml\")"
   ]
  },
  {
   "cell_type": "code",
   "execution_count": 20,
   "metadata": {
    "collapsed": false
   },
   "outputs": [
    {
     "name": "stdout",
     "output_type": "stream",
     "text": [
      "--- ITERACION :  0  ---\n",
      "prob_precipitacion :  [-1, -1, 0, -1, 0, 0, 0]\n",
      "estado_cielo :  [-1, -1, 11, -1, 11, 11, 11]\n",
      "viento :  [-1, -1, 25, 10, 20, 25, 20]\n",
      "temperatura :  [18, 29, 28, 20]\n",
      "temperatura maxima :  [32]\n",
      "temperatura minima :  [17]\n",
      "--- ITERACION :  1  ---\n",
      "prob_precipitacion :  [-1, -1, 0, -1, 0, 0, 0, 0, 0, 0, 0, 0, 0, 0]\n",
      "estado_cielo :  [-1, -1, 11, -1, 11, 11, 11, 11, 11, 12, -2, 11, 12, 11]\n",
      "viento :  [-1, -1, 25, 10, 20, 25, 20, 20, 20, 30, 5, 20, 30, 20]\n",
      "temperatura :  [18, 29, 28, 20, 15, 27, 26, 18]\n",
      "temperatura maxima :  [32, 29]\n",
      "temperatura minima :  [17, 14]\n",
      "--- ITERACION :  2  ---\n",
      "prob_precipitacion :  [-1, -1, 0, -1, 0, 0, 0, 0, 0, 0, 0, 0, 0, 0, 90, 65, 75]\n",
      "estado_cielo :  [-1, -1, 11, -1, 11, 11, 11, 11, 11, 12, -2, 11, 12, 11, 43, 43, 43]\n",
      "viento :  [-1, -1, 25, 10, 20, 25, 20, 20, 20, 30, 5, 20, 30, 20, 20, 20, 25]\n",
      "temperatura :  [18, 29, 28, 20, 15, 27, 26, 18]\n",
      "temperatura maxima :  [32, 29, 22]\n",
      "temperatura minima :  [17, 14, 14]\n",
      "--- ITERACION :  3  ---\n",
      "prob_precipitacion :  [-1, -1, 0, -1, 0, 0, 0, 0, 0, 0, 0, 0, 0, 0, 90, 65, 75, 70, 15, 60]\n",
      "estado_cielo :  [-1, -1, 11, -1, 11, 11, 11, 11, 11, 12, -2, 11, 12, 11, 43, 43, 43, 43, 13, 44]\n",
      "viento :  [-1, -1, 25, 10, 20, 25, 20, 20, 20, 30, 5, 20, 30, 20, 20, 20, 25, 20, 20, 20]\n",
      "temperatura :  [18, 29, 28, 20, 15, 27, 26, 18]\n",
      "temperatura maxima :  [32, 29, 22, 22]\n",
      "temperatura minima :  [17, 14, 14, 11]\n",
      "--- ITERACION :  4  ---\n",
      "prob_precipitacion :  [-1, -1, 0, -1, 0, 0, 0, 0, 0, 0, 0, 0, 0, 0, 90, 65, 75, 70, 15, 60, 70]\n",
      "estado_cielo :  [-1, -1, 11, -1, 11, 11, 11, 11, 11, 12, -2, 11, 12, 11, 43, 43, 43, 43, 13, 44, 44]\n",
      "viento :  [-1, -1, 25, 10, 20, 25, 20, 20, 20, 30, 5, 20, 30, 20, 20, 20, 25, 20, 20, 20, 10]\n",
      "temperatura :  [18, 29, 28, 20, 15, 27, 26, 18]\n",
      "temperatura maxima :  [32, 29, 22, 22, 22]\n",
      "temperatura minima :  [17, 14, 14, 11, 12]\n",
      "--- ITERACION :  5  ---\n",
      "prob_precipitacion :  [-1, -1, 0, -1, 0, 0, 0, 0, 0, 0, 0, 0, 0, 0, 90, 65, 75, 70, 15, 60, 70, 40]\n",
      "estado_cielo :  [-1, -1, 11, -1, 11, 11, 11, 11, 11, 12, -2, 11, 12, 11, 43, 43, 43, 43, 13, 44, 44, 13]\n",
      "viento :  [-1, -1, 25, 10, 20, 25, 20, 20, 20, 30, 5, 20, 30, 20, 20, 20, 25, 20, 20, 20, 10, 10]\n",
      "temperatura :  [18, 29, 28, 20, 15, 27, 26, 18]\n",
      "temperatura maxima :  [32, 29, 22, 22, 22, 22]\n",
      "temperatura minima :  [17, 14, 14, 11, 12, 12]\n",
      "--- ITERACION :  6  ---\n",
      "prob_precipitacion :  [-1, -1, 0, -1, 0, 0, 0, 0, 0, 0, 0, 0, 0, 0, 90, 65, 75, 70, 15, 60, 70, 40, 5]\n",
      "estado_cielo :  [-1, -1, 11, -1, 11, 11, 11, 11, 11, 12, -2, 11, 12, 11, 43, 43, 43, 43, 13, 44, 44, 13, 11]\n",
      "viento :  [-1, -1, 25, 10, 20, 25, 20, 20, 20, 30, 5, 20, 30, 20, 20, 20, 25, 20, 20, 20, 10, 10, 10]\n",
      "temperatura :  [18, 29, 28, 20, 15, 27, 26, 18]\n",
      "temperatura maxima :  [32, 29, 22, 22, 22, 22, 25]\n",
      "temperatura minima :  [17, 14, 14, 11, 12, 12, 11]\n"
     ]
    }
   ],
   "source": [
    "parsed = objectify.parse('tiempo.xml')\n",
    "root = parsed.getroot()\n",
    "prob_precipitacion = []\n",
    "estado_cielo =[]\n",
    "viento = []\n",
    "temperatura = []\n",
    "tempmax = []\n",
    "tempmin = []\n",
    "iteraccion = 0\n",
    "for row in root.prediccion.dia:\n",
    "    for row_precipitacion in row.prob_precipitacion:\n",
    "        if (row_precipitacion != ''):\n",
    "            prob_precipitacion.append(row_precipitacion)\n",
    "        else:\n",
    "            prob_precipitacion.append(-1)\n",
    "    for row_cielo in row.estado_cielo:\n",
    "        if (row_cielo != ''):\n",
    "            try:\n",
    "                int(row_cielo)\n",
    "                estado_cielo.append(row_cielo)\n",
    "            except ValueError:\n",
    "                estado_cielo.append(-2)\n",
    "        else:\n",
    "            estado_cielo.append(-1)\n",
    "    for row_viento in row.viento:\n",
    "        if (row_viento.velocidad != ''):\n",
    "            viento.append(row_viento.velocidad)\n",
    "        else:\n",
    "            viento.append(-1)\n",
    "    for row_temp in row.temperatura:\n",
    "        tempmax.append(row_temp.maxima)\n",
    "        tempmin.append(row_temp.minima)\n",
    "        if (iteraccion < 2):\n",
    "            for datos in row_temp.dato:\n",
    "                temperatura.append(datos)\n",
    "    print \"--- ITERACION : \", iteraccion,\" ---\"\n",
    "    print \"prob_precipitacion : \",prob_precipitacion\n",
    "    print \"estado_cielo : \",estado_cielo\n",
    "    print \"viento : \",viento\n",
    "    print \"temperatura : \",temperatura\n",
    "    print \"temperatura maxima : \",tempmax\n",
    "    print \"temperatura minima : \",tempmin\n",
    "    iteraccion = iteraccion + 1\n",
    "#data = pd.DataFrame()\n",
    "#data['prob_precipitacion'] = [str(x) for x in prob_precipitacion]\n",
    "#data['estado_cielo'] = [int(x) for x in estado_cielo]\n",
    "#data['viento'] = [int(x) for x in viento]\n",
    "#data['temperatura'] = [int(x) for x in temperatura]\n",
    "#data"
   ]
  },
  {
   "cell_type": "code",
   "execution_count": null,
   "metadata": {
    "collapsed": true
   },
   "outputs": [],
   "source": []
  }
 ],
 "metadata": {
  "kernelspec": {
   "display_name": "Python 2",
   "language": "python",
   "name": "python2"
  },
  "language_info": {
   "codemirror_mode": {
    "name": "ipython",
    "version": 2
   },
   "file_extension": ".py",
   "mimetype": "text/x-python",
   "name": "python",
   "nbconvert_exporter": "python",
   "pygments_lexer": "ipython2",
   "version": "2.7.11"
  }
 },
 "nbformat": 4,
 "nbformat_minor": 0
}
